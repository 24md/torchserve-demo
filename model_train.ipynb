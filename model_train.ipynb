{
 "cells": [
  {
   "cell_type": "code",
   "execution_count": 1,
   "id": "788cc9c9-0fe2-4736-8a8e-e1869365da35",
   "metadata": {},
   "outputs": [],
   "source": [
    "import os\n",
    "import json\n",
    "import numpy as np\n",
    "import torch\n",
    "from torchvision import models\n",
    "from torchvision.models import ResNet18_Weights\n",
    "from torchvision import transforms as T\n",
    "from torchvision.datasets import ImageFolder\n",
    "from torch.utils.data.sampler import SubsetRandomSampler\n",
    "from torch.utils.data import DataLoader\n",
    "import torch.optim as optim\n",
    "from copy import deepcopy"
   ]
  },
  {
   "cell_type": "code",
   "execution_count": 2,
   "id": "f2e6f2df-6e54-4ce7-8679-c2718ea59e57",
   "metadata": {},
   "outputs": [],
   "source": [
    "device = torch.device('cuda')\n",
    "model = models.resnet18(weights=ResNet18_Weights.IMAGENET1K_V1)\n",
    "model.eval()\n",
    "\n",
    "for param in model.parameters():\n",
    "    param.requires_grad = False"
   ]
  },
  {
   "cell_type": "code",
   "execution_count": 3,
   "id": "00d4cd45-c543-4302-85b1-49188068e60b",
   "metadata": {},
   "outputs": [],
   "source": [
    "sequential_layer = torch.nn.Sequential(\n",
    "    torch.nn.Linear(model.fc.in_features, 128),\n",
    "    torch.nn.ReLU(),\n",
    "    torch.nn.Dropout(.2),\n",
    "    torch.nn.Linear(128, 10),\n",
    "    torch.nn.LogSoftmax(dim=1)\n",
    ")\n",
    "\n",
    "model.fc = sequential_layer\n",
    "model = model.to('cuda')"
   ]
  },
  {
   "cell_type": "code",
   "execution_count": 4,
   "id": "6db7b86c-dbbb-4834-9a49-da9616139040",
   "metadata": {},
   "outputs": [],
   "source": [
    "data_path = './dataset'\n",
    "train_data_path = os.path.join(data_path, 'train')\n",
    "test_data_path = os.path.join(data_path, 'test')"
   ]
  },
  {
   "cell_type": "code",
   "execution_count": 5,
   "id": "3a36fa26-0831-452f-9b78-c17cf9e0a55b",
   "metadata": {},
   "outputs": [],
   "source": [
    "train_classes = dict()\n",
    "test_classes = dict()\n",
    "\n",
    "for path in sorted(os.listdir(train_data_path)):\n",
    "    train_classes.setdefault(len(train_classes), path)\n",
    "    \n",
    "for path in sorted(os.listdir(test_data_path)):\n",
    "    test_classes.setdefault(len(test_classes), path)"
   ]
  },
  {
   "cell_type": "code",
   "execution_count": 6,
   "id": "605e28b5-362b-4122-8706-c207ed64ce35",
   "metadata": {},
   "outputs": [],
   "source": [
    "with open('index_to_name.json', 'w') as fp:\n",
    "    json.dump(train_classes, fp)"
   ]
  },
  {
   "cell_type": "code",
   "execution_count": 7,
   "id": "a9a6c72e-9d0d-4606-bc0a-090f7670c721",
   "metadata": {},
   "outputs": [],
   "source": [
    "train_transform = T.Compose([\n",
    "    T.Resize((256,256)),\n",
    "    T.CenterCrop((224,224)),\n",
    "    T.ToTensor(),\n",
    "    T.Normalize(mean=[0.485, 0.456, 0.406], std=[0.229, 0.224, 0.225])\n",
    "])\n",
    "\n",
    "val_transform = T.Compose([\n",
    "    T.Resize((256,256)),\n",
    "    T.CenterCrop((224,224)),\n",
    "    T.ToTensor(),\n",
    "    T.Normalize(mean=[0.485, 0.456, 0.406], std=[0.229, 0.224, 0.225])\n",
    "])\n",
    "\n",
    "test_transform = T.Compose([\n",
    "    T.Resize((256,256)),\n",
    "    T.CenterCrop((224,224)),\n",
    "    T.ToTensor(),\n",
    "    T.Normalize(mean=[0.485, 0.456, 0.406], std=[0.229, 0.224, 0.225])\n",
    "])\n",
    "\n",
    "train_dataset = ImageFolder(root=train_data_path, transform=train_transform)\n",
    "val_dataset = ImageFolder(root=train_data_path, transform=val_transform)\n",
    "test_dataset = ImageFolder(root=test_data_path, transform=val_transform)"
   ]
  },
  {
   "cell_type": "code",
   "execution_count": 8,
   "id": "526933af-3296-4b3e-ae6f-cfee1d6aae75",
   "metadata": {},
   "outputs": [],
   "source": [
    "val_size = .2\n",
    "\n",
    "num_train = len(train_dataset)\n",
    "indices = list(range(num_train))\n",
    "\n",
    "split = int(np.floor(val_size * num_train))\n",
    "\n",
    "np.random.seed(69)\n",
    "np.random.shuffle(indices)\n",
    "\n",
    "train_idx, val_idx = indices[split:], indices[:split]\n",
    "\n",
    "train_sampler = SubsetRandomSampler(train_idx)\n",
    "val_sampler = SubsetRandomSampler(val_idx)"
   ]
  },
  {
   "cell_type": "code",
   "execution_count": 9,
   "id": "4b54a5eb-32f5-43e4-b920-802aa0b6a1d2",
   "metadata": {},
   "outputs": [],
   "source": [
    "train_loader = DataLoader(train_dataset, batch_size=10, num_workers=0, sampler=train_sampler)\n",
    "val_loader = DataLoader(val_dataset, batch_size=10, num_workers=0, sampler=val_sampler)\n",
    "test_loader = DataLoader(test_dataset, batch_size=10, num_workers=0, shuffle=False)"
   ]
  },
  {
   "cell_type": "code",
   "execution_count": 10,
   "id": "71c06c2d-3f10-419e-8d90-f32efb660934",
   "metadata": {},
   "outputs": [],
   "source": [
    "loaders = {'train': train_loader, 'val': val_loader, 'test': test_loader}\n",
    "dataset_sizes = {'train': len(train_dataset), 'val': len(val_dataset), 'test': len(test_dataset)}"
   ]
  },
  {
   "cell_type": "code",
   "execution_count": 11,
   "id": "5090f2ad-a5d2-47d4-842c-01cc925c3e7d",
   "metadata": {},
   "outputs": [],
   "source": [
    "criterion = torch.nn.CrossEntropyLoss()\n",
    "optimizer = optim.SGD(model.parameters(), lr=1e-3, momentum=.9)\n",
    "\n",
    "scheduler = optim.lr_scheduler.StepLR(optimizer, step_size=7, gamma=.1)"
   ]
  },
  {
   "cell_type": "code",
   "execution_count": 12,
   "id": "903647d3-ae1c-406f-86e7-3ef42ba7a44f",
   "metadata": {},
   "outputs": [
    {
     "name": "stdout",
     "output_type": "stream",
     "text": [
      "CPU times: user 2 µs, sys: 0 ns, total: 2 µs\n",
      "Wall time: 4.53 µs\n",
      "\n",
      "Epoch 1/15\n",
      "=========================\n",
      "Loss (train): 1.4367195877432823, Acc (train): 0.32575\n",
      "Loss (val): 0.24233110800385474, Acc (val): 0.124375\n",
      "\n",
      "Epoch 2/15\n",
      "=========================\n",
      "Loss (train): 1.0188224367052316, Acc (train): 0.46775\n",
      "Loss (val): 0.20282511811703444, Acc (val): 0.13625\n",
      "\n",
      "Epoch 3/15\n",
      "=========================\n",
      "Loss (train): 0.9267179149016738, Acc (train): 0.494375\n",
      "Loss (val): 0.19389681428670882, Acc (val): 0.139625\n",
      "\n",
      "Epoch 4/15\n",
      "=========================\n",
      "Loss (train): 0.8713768003508449, Acc (train): 0.512375\n",
      "Loss (val): 0.18633067898452282, Acc (val): 0.141875\n",
      "\n",
      "Epoch 5/15\n",
      "=========================\n",
      "Loss (train): 0.8411770219914615, Acc (train): 0.517875\n",
      "Loss (val): 0.18585949849337338, Acc (val): 0.139875\n",
      "\n",
      "Epoch 6/15\n",
      "=========================\n",
      "Loss (train): 0.8033427166193724, Acc (train): 0.535875\n",
      "Loss (val): 0.1807949926517904, Acc (val): 0.14275000000000002\n",
      "\n",
      "Epoch 7/15\n",
      "=========================\n",
      "Loss (train): 0.79221504740417, Acc (train): 0.530625\n",
      "Loss (val): 0.18437833601608872, Acc (val): 0.14175000000000001\n",
      "\n",
      "Epoch 8/15\n",
      "=========================\n",
      "Loss (train): 0.724449780806899, Acc (train): 0.557875\n",
      "Loss (val): 0.17576948871836065, Acc (val): 0.142375\n",
      "\n",
      "Epoch 9/15\n",
      "=========================\n",
      "Loss (train): 0.7224045309238136, Acc (train): 0.55775\n",
      "Loss (val): 0.17869232462719084, Acc (val): 0.142375\n",
      "\n",
      "Epoch 10/15\n",
      "=========================\n",
      "Loss (train): 0.7182359226420522, Acc (train): 0.5583750000000001\n",
      "Loss (val): 0.17616988984867932, Acc (val): 0.144375\n",
      "\n",
      "Epoch 11/15\n",
      "=========================\n",
      "Loss (train): 0.7192803348228335, Acc (train): 0.5625\n",
      "Loss (val): 0.1749306130502373, Acc (val): 0.143375\n",
      "\n",
      "Epoch 12/15\n",
      "=========================\n",
      "Loss (train): 0.71296696793288, Acc (train): 0.561125\n",
      "Loss (val): 0.1768862063996494, Acc (val): 0.14350000000000002\n",
      "\n",
      "Epoch 13/15\n",
      "=========================\n",
      "Loss (train): 0.7059063987992704, Acc (train): 0.56875\n",
      "Loss (val): 0.17499464079737664, Acc (val): 0.14250000000000002\n",
      "\n",
      "Epoch 14/15\n",
      "=========================\n",
      "Loss (train): 0.7117990975826979, Acc (train): 0.563625\n",
      "Loss (val): 0.1753337104059756, Acc (val): 0.1445\n",
      "\n",
      "Epoch 15/15\n",
      "=========================\n",
      "Loss (train): 0.6983467473089695, Acc (train): 0.57175\n",
      "Loss (val): 0.17541085144504906, Acc (val): 0.143875\n"
     ]
    }
   ],
   "source": [
    "%time\n",
    "\n",
    "for epoch in range(1, 16):\n",
    "    best_acc = .0\n",
    "    print(f\"\\nEpoch {epoch}/{15}\\n{'='*25}\")\n",
    "    for phase in ['train', 'val']:\n",
    "        running_loss = .0\n",
    "        running_corrects = .0\n",
    "        if phase == 'train': model.train()\n",
    "        if phase == 'val': model.eval()\n",
    "        for inputs, labels in loaders[phase]:\n",
    "            inputs, labels = inputs.to(device), labels.to(device)\n",
    "\n",
    "            optimizer.zero_grad()\n",
    "\n",
    "            with torch.set_grad_enabled(phase == 'train'):\n",
    "                outputs = model(inputs)\n",
    "                _, preds = torch.max(outputs, 1)\n",
    "                loss = criterion(outputs, labels)\n",
    "                \n",
    "                if phase == 'train':\n",
    "                    loss.backward()\n",
    "                    optimizer.step()\n",
    "\n",
    "            running_loss += loss.item() * inputs.size(0)\n",
    "            running_corrects += torch.sum(preds == labels)\n",
    "        epoch_loss = running_loss / dataset_sizes[phase]\n",
    "        epoch_acc = running_corrects.double() / dataset_sizes[phase]\n",
    "        if phase == 'train': scheduler.step()\n",
    "        if phase == 'val' and epoch_acc > best_acc:\n",
    "            best_acc = epoch_acc\n",
    "            best_model_weights = deepcopy(model.state_dict())\n",
    "        print(f\"Loss ({phase}): {epoch_loss}, Acc ({phase}): {epoch_acc}\")"
   ]
  },
  {
   "cell_type": "code",
   "execution_count": 13,
   "id": "944c8607-e76f-4dd7-adb3-49e1893507bf",
   "metadata": {},
   "outputs": [],
   "source": [
    "torch.save(best_model_weights, 'desserts_resnet18.pth')"
   ]
  },
  {
   "cell_type": "code",
   "execution_count": 14,
   "id": "c55ecb08-e85d-4557-a05f-466aee6d448f",
   "metadata": {},
   "outputs": [
    {
     "name": "stdout",
     "output_type": "stream",
     "text": [
      "CPU times: user 1min 1s, sys: 1.98 s, total: 1min 3s\n",
      "Wall time: 10.5 s\n"
     ]
    }
   ],
   "source": [
    "%%time\n",
    "\n",
    "for inputs, labels in test_loader:\n",
    "    inputs, labels = inputs.to(device), labels.to(device)\n",
    "\n",
    "    with torch.no_grad():\n",
    "        outputs = model(inputs)\n",
    "        _, preds = torch.max(outputs, 1)\n",
    "        loss = criterion(outputs, labels)\n",
    "\n",
    "    running_loss += loss.item() * inputs.size(0)\n",
    "    running_corrects += torch.sum(preds == labels)\n",
    "    \n",
    "loss = running_loss / dataset_sizes['test']\n",
    "acc = running_corrects.double() / dataset_sizes['test']"
   ]
  },
  {
   "cell_type": "code",
   "execution_count": 15,
   "id": "6d7cf24e-0761-4834-9689-17dcb24e5c57",
   "metadata": {},
   "outputs": [
    {
     "name": "stdout",
     "output_type": "stream",
     "text": [
      "Test Loss: 0.17541085144504906, Test Accuracy: 0.143875\n"
     ]
    }
   ],
   "source": [
    "print(f\"Test Loss: {epoch_loss}, Test Accuracy: {epoch_acc}\")"
   ]
  },
  {
   "cell_type": "code",
   "execution_count": 16,
   "id": "695b112e-bd8b-4969-8c4f-9cd7a7c4e464",
   "metadata": {},
   "outputs": [
    {
     "data": {
      "text/plain": [
       "ResNet(\n",
       "  (conv1): Conv2d(3, 64, kernel_size=(7, 7), stride=(2, 2), padding=(3, 3), bias=False)\n",
       "  (bn1): BatchNorm2d(64, eps=1e-05, momentum=0.1, affine=True, track_running_stats=True)\n",
       "  (relu): ReLU(inplace=True)\n",
       "  (maxpool): MaxPool2d(kernel_size=3, stride=2, padding=1, dilation=1, ceil_mode=False)\n",
       "  (layer1): Sequential(\n",
       "    (0): BasicBlock(\n",
       "      (conv1): Conv2d(64, 64, kernel_size=(3, 3), stride=(1, 1), padding=(1, 1), bias=False)\n",
       "      (bn1): BatchNorm2d(64, eps=1e-05, momentum=0.1, affine=True, track_running_stats=True)\n",
       "      (relu): ReLU(inplace=True)\n",
       "      (conv2): Conv2d(64, 64, kernel_size=(3, 3), stride=(1, 1), padding=(1, 1), bias=False)\n",
       "      (bn2): BatchNorm2d(64, eps=1e-05, momentum=0.1, affine=True, track_running_stats=True)\n",
       "    )\n",
       "    (1): BasicBlock(\n",
       "      (conv1): Conv2d(64, 64, kernel_size=(3, 3), stride=(1, 1), padding=(1, 1), bias=False)\n",
       "      (bn1): BatchNorm2d(64, eps=1e-05, momentum=0.1, affine=True, track_running_stats=True)\n",
       "      (relu): ReLU(inplace=True)\n",
       "      (conv2): Conv2d(64, 64, kernel_size=(3, 3), stride=(1, 1), padding=(1, 1), bias=False)\n",
       "      (bn2): BatchNorm2d(64, eps=1e-05, momentum=0.1, affine=True, track_running_stats=True)\n",
       "    )\n",
       "  )\n",
       "  (layer2): Sequential(\n",
       "    (0): BasicBlock(\n",
       "      (conv1): Conv2d(64, 128, kernel_size=(3, 3), stride=(2, 2), padding=(1, 1), bias=False)\n",
       "      (bn1): BatchNorm2d(128, eps=1e-05, momentum=0.1, affine=True, track_running_stats=True)\n",
       "      (relu): ReLU(inplace=True)\n",
       "      (conv2): Conv2d(128, 128, kernel_size=(3, 3), stride=(1, 1), padding=(1, 1), bias=False)\n",
       "      (bn2): BatchNorm2d(128, eps=1e-05, momentum=0.1, affine=True, track_running_stats=True)\n",
       "      (downsample): Sequential(\n",
       "        (0): Conv2d(64, 128, kernel_size=(1, 1), stride=(2, 2), bias=False)\n",
       "        (1): BatchNorm2d(128, eps=1e-05, momentum=0.1, affine=True, track_running_stats=True)\n",
       "      )\n",
       "    )\n",
       "    (1): BasicBlock(\n",
       "      (conv1): Conv2d(128, 128, kernel_size=(3, 3), stride=(1, 1), padding=(1, 1), bias=False)\n",
       "      (bn1): BatchNorm2d(128, eps=1e-05, momentum=0.1, affine=True, track_running_stats=True)\n",
       "      (relu): ReLU(inplace=True)\n",
       "      (conv2): Conv2d(128, 128, kernel_size=(3, 3), stride=(1, 1), padding=(1, 1), bias=False)\n",
       "      (bn2): BatchNorm2d(128, eps=1e-05, momentum=0.1, affine=True, track_running_stats=True)\n",
       "    )\n",
       "  )\n",
       "  (layer3): Sequential(\n",
       "    (0): BasicBlock(\n",
       "      (conv1): Conv2d(128, 256, kernel_size=(3, 3), stride=(2, 2), padding=(1, 1), bias=False)\n",
       "      (bn1): BatchNorm2d(256, eps=1e-05, momentum=0.1, affine=True, track_running_stats=True)\n",
       "      (relu): ReLU(inplace=True)\n",
       "      (conv2): Conv2d(256, 256, kernel_size=(3, 3), stride=(1, 1), padding=(1, 1), bias=False)\n",
       "      (bn2): BatchNorm2d(256, eps=1e-05, momentum=0.1, affine=True, track_running_stats=True)\n",
       "      (downsample): Sequential(\n",
       "        (0): Conv2d(128, 256, kernel_size=(1, 1), stride=(2, 2), bias=False)\n",
       "        (1): BatchNorm2d(256, eps=1e-05, momentum=0.1, affine=True, track_running_stats=True)\n",
       "      )\n",
       "    )\n",
       "    (1): BasicBlock(\n",
       "      (conv1): Conv2d(256, 256, kernel_size=(3, 3), stride=(1, 1), padding=(1, 1), bias=False)\n",
       "      (bn1): BatchNorm2d(256, eps=1e-05, momentum=0.1, affine=True, track_running_stats=True)\n",
       "      (relu): ReLU(inplace=True)\n",
       "      (conv2): Conv2d(256, 256, kernel_size=(3, 3), stride=(1, 1), padding=(1, 1), bias=False)\n",
       "      (bn2): BatchNorm2d(256, eps=1e-05, momentum=0.1, affine=True, track_running_stats=True)\n",
       "    )\n",
       "  )\n",
       "  (layer4): Sequential(\n",
       "    (0): BasicBlock(\n",
       "      (conv1): Conv2d(256, 512, kernel_size=(3, 3), stride=(2, 2), padding=(1, 1), bias=False)\n",
       "      (bn1): BatchNorm2d(512, eps=1e-05, momentum=0.1, affine=True, track_running_stats=True)\n",
       "      (relu): ReLU(inplace=True)\n",
       "      (conv2): Conv2d(512, 512, kernel_size=(3, 3), stride=(1, 1), padding=(1, 1), bias=False)\n",
       "      (bn2): BatchNorm2d(512, eps=1e-05, momentum=0.1, affine=True, track_running_stats=True)\n",
       "      (downsample): Sequential(\n",
       "        (0): Conv2d(256, 512, kernel_size=(1, 1), stride=(2, 2), bias=False)\n",
       "        (1): BatchNorm2d(512, eps=1e-05, momentum=0.1, affine=True, track_running_stats=True)\n",
       "      )\n",
       "    )\n",
       "    (1): BasicBlock(\n",
       "      (conv1): Conv2d(512, 512, kernel_size=(3, 3), stride=(1, 1), padding=(1, 1), bias=False)\n",
       "      (bn1): BatchNorm2d(512, eps=1e-05, momentum=0.1, affine=True, track_running_stats=True)\n",
       "      (relu): ReLU(inplace=True)\n",
       "      (conv2): Conv2d(512, 512, kernel_size=(3, 3), stride=(1, 1), padding=(1, 1), bias=False)\n",
       "      (bn2): BatchNorm2d(512, eps=1e-05, momentum=0.1, affine=True, track_running_stats=True)\n",
       "    )\n",
       "  )\n",
       "  (avgpool): AdaptiveAvgPool2d(output_size=(1, 1))\n",
       "  (fc): Sequential(\n",
       "    (0): Linear(in_features=512, out_features=128, bias=True)\n",
       "    (1): ReLU()\n",
       "    (2): Dropout(p=0.2, inplace=False)\n",
       "    (3): Linear(in_features=128, out_features=10, bias=True)\n",
       "    (4): LogSoftmax(dim=1)\n",
       "  )\n",
       ")"
      ]
     },
     "execution_count": 16,
     "metadata": {},
     "output_type": "execute_result"
    }
   ],
   "source": [
    "model.eval()"
   ]
  }
 ],
 "metadata": {
  "kernelspec": {
   "display_name": "Python 3 (ipykernel)",
   "language": "python",
   "name": "python3"
  },
  "language_info": {
   "codemirror_mode": {
    "name": "ipython",
    "version": 3
   },
   "file_extension": ".py",
   "mimetype": "text/x-python",
   "name": "python",
   "nbconvert_exporter": "python",
   "pygments_lexer": "ipython3",
   "version": "3.10.8"
  }
 },
 "nbformat": 4,
 "nbformat_minor": 5
}
